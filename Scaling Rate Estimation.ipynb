{
 "cells": [
  {
   "cell_type": "markdown",
   "metadata": {},
   "source": [
    "### **Read Data**\n",
    "\n",
    "**Station KR289**"
   ]
  },
  {
   "cell_type": "code",
   "execution_count": 285,
   "metadata": {},
   "outputs": [],
   "source": [
    "import pandas as pd\n",
    "data =  pd.read_csv(\"KR289.csv\")"
   ]
  },
  {
   "cell_type": "code",
   "execution_count": 286,
   "metadata": {},
   "outputs": [],
   "source": [
    "data[\"Pcp\"].fillna(0, inplace=True)"
   ]
  },
  {
   "cell_type": "code",
   "execution_count": 287,
   "metadata": {},
   "outputs": [],
   "source": [
    "data = data[(data.year >= 1980) & (data.year != 2019)]"
   ]
  },
  {
   "cell_type": "code",
   "execution_count": 288,
   "metadata": {},
   "outputs": [
    {
     "data": {
      "text/html": [
       "<div>\n",
       "<style scoped>\n",
       "    .dataframe tbody tr th:only-of-type {\n",
       "        vertical-align: middle;\n",
       "    }\n",
       "\n",
       "    .dataframe tbody tr th {\n",
       "        vertical-align: top;\n",
       "    }\n",
       "\n",
       "    .dataframe thead th {\n",
       "        text-align: right;\n",
       "    }\n",
       "</style>\n",
       "<table border=\"1\" class=\"dataframe\">\n",
       "  <thead>\n",
       "    <tr style=\"text-align: right;\">\n",
       "      <th></th>\n",
       "      <th>year</th>\n",
       "      <th>month</th>\n",
       "      <th>day</th>\n",
       "      <th>Pcp</th>\n",
       "      <th>Tmax</th>\n",
       "      <th>Tmin</th>\n",
       "      <th>Wspeed</th>\n",
       "      <th>Rhumidity</th>\n",
       "      <th>Srad</th>\n",
       "      <th>Sshine</th>\n",
       "      <th>Cloud</th>\n",
       "      <th>Tavg</th>\n",
       "    </tr>\n",
       "  </thead>\n",
       "  <tbody>\n",
       "    <tr>\n",
       "      <th>2833</th>\n",
       "      <td>1980</td>\n",
       "      <td>1</td>\n",
       "      <td>1</td>\n",
       "      <td>1.1</td>\n",
       "      <td>5.8</td>\n",
       "      <td>1.3</td>\n",
       "      <td>0.2</td>\n",
       "      <td>0.908</td>\n",
       "      <td>-99.0</td>\n",
       "      <td>0.0</td>\n",
       "      <td>10.0</td>\n",
       "      <td>3.6</td>\n",
       "    </tr>\n",
       "    <tr>\n",
       "      <th>2834</th>\n",
       "      <td>1980</td>\n",
       "      <td>1</td>\n",
       "      <td>2</td>\n",
       "      <td>7.3</td>\n",
       "      <td>6.8</td>\n",
       "      <td>3.8</td>\n",
       "      <td>0.1</td>\n",
       "      <td>0.945</td>\n",
       "      <td>-99.0</td>\n",
       "      <td>0.0</td>\n",
       "      <td>10.0</td>\n",
       "      <td>5.4</td>\n",
       "    </tr>\n",
       "    <tr>\n",
       "      <th>2835</th>\n",
       "      <td>1980</td>\n",
       "      <td>1</td>\n",
       "      <td>3</td>\n",
       "      <td>0.5</td>\n",
       "      <td>9.2</td>\n",
       "      <td>5.6</td>\n",
       "      <td>1.6</td>\n",
       "      <td>0.845</td>\n",
       "      <td>-99.0</td>\n",
       "      <td>0.4</td>\n",
       "      <td>10.0</td>\n",
       "      <td>7.0</td>\n",
       "    </tr>\n",
       "    <tr>\n",
       "      <th>2836</th>\n",
       "      <td>1980</td>\n",
       "      <td>1</td>\n",
       "      <td>4</td>\n",
       "      <td>0.0</td>\n",
       "      <td>6.2</td>\n",
       "      <td>-2.1</td>\n",
       "      <td>3.8</td>\n",
       "      <td>0.498</td>\n",
       "      <td>-99.0</td>\n",
       "      <td>6.2</td>\n",
       "      <td>4.3</td>\n",
       "      <td>3.5</td>\n",
       "    </tr>\n",
       "    <tr>\n",
       "      <th>2837</th>\n",
       "      <td>1980</td>\n",
       "      <td>1</td>\n",
       "      <td>5</td>\n",
       "      <td>0.0</td>\n",
       "      <td>3.0</td>\n",
       "      <td>-5.9</td>\n",
       "      <td>2.3</td>\n",
       "      <td>0.525</td>\n",
       "      <td>-99.0</td>\n",
       "      <td>7.9</td>\n",
       "      <td>0.0</td>\n",
       "      <td>-2.3</td>\n",
       "    </tr>\n",
       "  </tbody>\n",
       "</table>\n",
       "</div>"
      ],
      "text/plain": [
       "      year  month  day  Pcp  Tmax  Tmin  Wspeed  Rhumidity  Srad  Sshine  \\\n",
       "2833  1980      1    1  1.1   5.8   1.3     0.2      0.908 -99.0     0.0   \n",
       "2834  1980      1    2  7.3   6.8   3.8     0.1      0.945 -99.0     0.0   \n",
       "2835  1980      1    3  0.5   9.2   5.6     1.6      0.845 -99.0     0.4   \n",
       "2836  1980      1    4  0.0   6.2  -2.1     3.8      0.498 -99.0     6.2   \n",
       "2837  1980      1    5  0.0   3.0  -5.9     2.3      0.525 -99.0     7.9   \n",
       "\n",
       "      Cloud  Tavg  \n",
       "2833   10.0   3.6  \n",
       "2834   10.0   5.4  \n",
       "2835   10.0   7.0  \n",
       "2836    4.3   3.5  \n",
       "2837    0.0  -2.3  "
      ]
     },
     "execution_count": 288,
     "metadata": {},
     "output_type": "execute_result"
    }
   ],
   "source": [
    "data.head()"
   ]
  },
  {
   "cell_type": "code",
   "execution_count": 289,
   "metadata": {},
   "outputs": [],
   "source": [
    "data = data[[\"year\", \"month\", \"day\", \"Pcp\", \"Rhumidity\",\"Tavg\", \"Tmax\", \"Tmin\"]]\n",
    "data = data.dropna()"
   ]
  },
  {
   "cell_type": "code",
   "execution_count": 290,
   "metadata": {},
   "outputs": [
    {
     "data": {
      "text/html": [
       "<div>\n",
       "<style scoped>\n",
       "    .dataframe tbody tr th:only-of-type {\n",
       "        vertical-align: middle;\n",
       "    }\n",
       "\n",
       "    .dataframe tbody tr th {\n",
       "        vertical-align: top;\n",
       "    }\n",
       "\n",
       "    .dataframe thead th {\n",
       "        text-align: right;\n",
       "    }\n",
       "</style>\n",
       "<table border=\"1\" class=\"dataframe\">\n",
       "  <thead>\n",
       "    <tr style=\"text-align: right;\">\n",
       "      <th></th>\n",
       "      <th>year</th>\n",
       "      <th>month</th>\n",
       "      <th>day</th>\n",
       "      <th>Pcp</th>\n",
       "      <th>Rhumidity</th>\n",
       "      <th>Tavg</th>\n",
       "      <th>Tmax</th>\n",
       "      <th>Tmin</th>\n",
       "    </tr>\n",
       "  </thead>\n",
       "  <tbody>\n",
       "    <tr>\n",
       "      <th>2833</th>\n",
       "      <td>1980</td>\n",
       "      <td>1</td>\n",
       "      <td>1</td>\n",
       "      <td>1.1</td>\n",
       "      <td>0.908</td>\n",
       "      <td>3.6</td>\n",
       "      <td>5.8</td>\n",
       "      <td>1.3</td>\n",
       "    </tr>\n",
       "    <tr>\n",
       "      <th>2834</th>\n",
       "      <td>1980</td>\n",
       "      <td>1</td>\n",
       "      <td>2</td>\n",
       "      <td>7.3</td>\n",
       "      <td>0.945</td>\n",
       "      <td>5.4</td>\n",
       "      <td>6.8</td>\n",
       "      <td>3.8</td>\n",
       "    </tr>\n",
       "    <tr>\n",
       "      <th>2835</th>\n",
       "      <td>1980</td>\n",
       "      <td>1</td>\n",
       "      <td>3</td>\n",
       "      <td>0.5</td>\n",
       "      <td>0.845</td>\n",
       "      <td>7.0</td>\n",
       "      <td>9.2</td>\n",
       "      <td>5.6</td>\n",
       "    </tr>\n",
       "    <tr>\n",
       "      <th>2836</th>\n",
       "      <td>1980</td>\n",
       "      <td>1</td>\n",
       "      <td>4</td>\n",
       "      <td>0.0</td>\n",
       "      <td>0.498</td>\n",
       "      <td>3.5</td>\n",
       "      <td>6.2</td>\n",
       "      <td>-2.1</td>\n",
       "    </tr>\n",
       "    <tr>\n",
       "      <th>2837</th>\n",
       "      <td>1980</td>\n",
       "      <td>1</td>\n",
       "      <td>5</td>\n",
       "      <td>0.0</td>\n",
       "      <td>0.525</td>\n",
       "      <td>-2.3</td>\n",
       "      <td>3.0</td>\n",
       "      <td>-5.9</td>\n",
       "    </tr>\n",
       "  </tbody>\n",
       "</table>\n",
       "</div>"
      ],
      "text/plain": [
       "      year  month  day  Pcp  Rhumidity  Tavg  Tmax  Tmin\n",
       "2833  1980      1    1  1.1      0.908   3.6   5.8   1.3\n",
       "2834  1980      1    2  7.3      0.945   5.4   6.8   3.8\n",
       "2835  1980      1    3  0.5      0.845   7.0   9.2   5.6\n",
       "2836  1980      1    4  0.0      0.498   3.5   6.2  -2.1\n",
       "2837  1980      1    5  0.0      0.525  -2.3   3.0  -5.9"
      ]
     },
     "execution_count": 290,
     "metadata": {},
     "output_type": "execute_result"
    }
   ],
   "source": [
    "data.head()"
   ]
  },
  {
   "cell_type": "code",
   "execution_count": 291,
   "metadata": {},
   "outputs": [],
   "source": [
    "data  = data[data['Rhumidity'] != -99.0]"
   ]
  },
  {
   "cell_type": "code",
   "execution_count": 292,
   "metadata": {},
   "outputs": [],
   "source": [
    "data['Rhumidity'] = data.apply(lambda row: row['Rhumidity'] * 100 if row['year'] < 2019 else row['Rhumidity'], axis=1)"
   ]
  },
  {
   "cell_type": "markdown",
   "metadata": {},
   "source": [
    "**Drop rows with NAN**"
   ]
  },
  {
   "cell_type": "code",
   "execution_count": 293,
   "metadata": {},
   "outputs": [
    {
     "data": {
      "text/plain": [
       "(15337, 8)"
      ]
     },
     "execution_count": 293,
     "metadata": {},
     "output_type": "execute_result"
    }
   ],
   "source": [
    "data.shape"
   ]
  },
  {
   "cell_type": "markdown",
   "metadata": {},
   "source": [
    "### **Calculate Dewpoint temperaature**"
   ]
  },
  {
   "cell_type": "code",
   "execution_count": 294,
   "metadata": {},
   "outputs": [],
   "source": [
    "import math\n",
    "def calculate_dewpoint(temp, humidity):\n",
    "    A = 17.27\n",
    "    B = 237.7\n",
    "    alpha = ((A * temp) / (B + temp)) + math.log(humidity/100.0)\n",
    "    return (B * alpha) / (A - alpha)"
   ]
  },
  {
   "cell_type": "code",
   "execution_count": 295,
   "metadata": {},
   "outputs": [
    {
     "data": {
      "text/html": [
       "<div>\n",
       "<style scoped>\n",
       "    .dataframe tbody tr th:only-of-type {\n",
       "        vertical-align: middle;\n",
       "    }\n",
       "\n",
       "    .dataframe tbody tr th {\n",
       "        vertical-align: top;\n",
       "    }\n",
       "\n",
       "    .dataframe thead th {\n",
       "        text-align: right;\n",
       "    }\n",
       "</style>\n",
       "<table border=\"1\" class=\"dataframe\">\n",
       "  <thead>\n",
       "    <tr style=\"text-align: right;\">\n",
       "      <th></th>\n",
       "      <th>year</th>\n",
       "      <th>month</th>\n",
       "      <th>day</th>\n",
       "      <th>Pcp</th>\n",
       "      <th>Rhumidity</th>\n",
       "      <th>Tavg</th>\n",
       "      <th>Tmax</th>\n",
       "      <th>Tmin</th>\n",
       "      <th>Tdew</th>\n",
       "    </tr>\n",
       "  </thead>\n",
       "  <tbody>\n",
       "    <tr>\n",
       "      <th>2833</th>\n",
       "      <td>1980</td>\n",
       "      <td>1</td>\n",
       "      <td>1</td>\n",
       "      <td>1.1</td>\n",
       "      <td>90.8</td>\n",
       "      <td>3.6</td>\n",
       "      <td>5.8</td>\n",
       "      <td>1.3</td>\n",
       "      <td>2.238829</td>\n",
       "    </tr>\n",
       "    <tr>\n",
       "      <th>2834</th>\n",
       "      <td>1980</td>\n",
       "      <td>1</td>\n",
       "      <td>2</td>\n",
       "      <td>7.3</td>\n",
       "      <td>94.5</td>\n",
       "      <td>5.4</td>\n",
       "      <td>6.8</td>\n",
       "      <td>3.8</td>\n",
       "      <td>4.588320</td>\n",
       "    </tr>\n",
       "    <tr>\n",
       "      <th>2835</th>\n",
       "      <td>1980</td>\n",
       "      <td>1</td>\n",
       "      <td>3</td>\n",
       "      <td>0.5</td>\n",
       "      <td>84.5</td>\n",
       "      <td>7.0</td>\n",
       "      <td>9.2</td>\n",
       "      <td>5.6</td>\n",
       "      <td>4.567805</td>\n",
       "    </tr>\n",
       "    <tr>\n",
       "      <th>2836</th>\n",
       "      <td>1980</td>\n",
       "      <td>1</td>\n",
       "      <td>4</td>\n",
       "      <td>0.0</td>\n",
       "      <td>49.8</td>\n",
       "      <td>3.5</td>\n",
       "      <td>6.2</td>\n",
       "      <td>-2.1</td>\n",
       "      <td>-5.991340</td>\n",
       "    </tr>\n",
       "    <tr>\n",
       "      <th>2837</th>\n",
       "      <td>1980</td>\n",
       "      <td>1</td>\n",
       "      <td>5</td>\n",
       "      <td>0.0</td>\n",
       "      <td>52.5</td>\n",
       "      <td>-2.3</td>\n",
       "      <td>3.0</td>\n",
       "      <td>-5.9</td>\n",
       "      <td>-10.688035</td>\n",
       "    </tr>\n",
       "  </tbody>\n",
       "</table>\n",
       "</div>"
      ],
      "text/plain": [
       "      year  month  day  Pcp  Rhumidity  Tavg  Tmax  Tmin       Tdew\n",
       "2833  1980      1    1  1.1       90.8   3.6   5.8   1.3   2.238829\n",
       "2834  1980      1    2  7.3       94.5   5.4   6.8   3.8   4.588320\n",
       "2835  1980      1    3  0.5       84.5   7.0   9.2   5.6   4.567805\n",
       "2836  1980      1    4  0.0       49.8   3.5   6.2  -2.1  -5.991340\n",
       "2837  1980      1    5  0.0       52.5  -2.3   3.0  -5.9 -10.688035"
      ]
     },
     "execution_count": 295,
     "metadata": {},
     "output_type": "execute_result"
    }
   ],
   "source": [
    "data['Tdew'] = data.apply(lambda row: calculate_dewpoint(row['Tavg'], row['Rhumidity']), axis=1)\n",
    "data.head()"
   ]
  },
  {
   "cell_type": "code",
   "execution_count": 296,
   "metadata": {},
   "outputs": [],
   "source": [
    "data['Date'] = pd.to_datetime(data[['year', 'month', 'day']], errors='coerce')"
   ]
  },
  {
   "cell_type": "code",
   "execution_count": 297,
   "metadata": {},
   "outputs": [
    {
     "data": {
      "text/html": [
       "<div>\n",
       "<style scoped>\n",
       "    .dataframe tbody tr th:only-of-type {\n",
       "        vertical-align: middle;\n",
       "    }\n",
       "\n",
       "    .dataframe tbody tr th {\n",
       "        vertical-align: top;\n",
       "    }\n",
       "\n",
       "    .dataframe thead th {\n",
       "        text-align: right;\n",
       "    }\n",
       "</style>\n",
       "<table border=\"1\" class=\"dataframe\">\n",
       "  <thead>\n",
       "    <tr style=\"text-align: right;\">\n",
       "      <th></th>\n",
       "      <th>year</th>\n",
       "      <th>month</th>\n",
       "      <th>day</th>\n",
       "      <th>Pcp</th>\n",
       "      <th>Rhumidity</th>\n",
       "      <th>Tavg</th>\n",
       "      <th>Tmax</th>\n",
       "      <th>Tmin</th>\n",
       "      <th>Tdew</th>\n",
       "      <th>Date</th>\n",
       "    </tr>\n",
       "  </thead>\n",
       "  <tbody>\n",
       "    <tr>\n",
       "      <th>2833</th>\n",
       "      <td>1980</td>\n",
       "      <td>1</td>\n",
       "      <td>1</td>\n",
       "      <td>1.1</td>\n",
       "      <td>90.8</td>\n",
       "      <td>3.6</td>\n",
       "      <td>5.8</td>\n",
       "      <td>1.3</td>\n",
       "      <td>2.238829</td>\n",
       "      <td>1980-01-01</td>\n",
       "    </tr>\n",
       "    <tr>\n",
       "      <th>2834</th>\n",
       "      <td>1980</td>\n",
       "      <td>1</td>\n",
       "      <td>2</td>\n",
       "      <td>7.3</td>\n",
       "      <td>94.5</td>\n",
       "      <td>5.4</td>\n",
       "      <td>6.8</td>\n",
       "      <td>3.8</td>\n",
       "      <td>4.588320</td>\n",
       "      <td>1980-01-02</td>\n",
       "    </tr>\n",
       "    <tr>\n",
       "      <th>2835</th>\n",
       "      <td>1980</td>\n",
       "      <td>1</td>\n",
       "      <td>3</td>\n",
       "      <td>0.5</td>\n",
       "      <td>84.5</td>\n",
       "      <td>7.0</td>\n",
       "      <td>9.2</td>\n",
       "      <td>5.6</td>\n",
       "      <td>4.567805</td>\n",
       "      <td>1980-01-03</td>\n",
       "    </tr>\n",
       "    <tr>\n",
       "      <th>2836</th>\n",
       "      <td>1980</td>\n",
       "      <td>1</td>\n",
       "      <td>4</td>\n",
       "      <td>0.0</td>\n",
       "      <td>49.8</td>\n",
       "      <td>3.5</td>\n",
       "      <td>6.2</td>\n",
       "      <td>-2.1</td>\n",
       "      <td>-5.991340</td>\n",
       "      <td>1980-01-04</td>\n",
       "    </tr>\n",
       "    <tr>\n",
       "      <th>2837</th>\n",
       "      <td>1980</td>\n",
       "      <td>1</td>\n",
       "      <td>5</td>\n",
       "      <td>0.0</td>\n",
       "      <td>52.5</td>\n",
       "      <td>-2.3</td>\n",
       "      <td>3.0</td>\n",
       "      <td>-5.9</td>\n",
       "      <td>-10.688035</td>\n",
       "      <td>1980-01-05</td>\n",
       "    </tr>\n",
       "  </tbody>\n",
       "</table>\n",
       "</div>"
      ],
      "text/plain": [
       "      year  month  day  Pcp  Rhumidity  Tavg  Tmax  Tmin       Tdew       Date\n",
       "2833  1980      1    1  1.1       90.8   3.6   5.8   1.3   2.238829 1980-01-01\n",
       "2834  1980      1    2  7.3       94.5   5.4   6.8   3.8   4.588320 1980-01-02\n",
       "2835  1980      1    3  0.5       84.5   7.0   9.2   5.6   4.567805 1980-01-03\n",
       "2836  1980      1    4  0.0       49.8   3.5   6.2  -2.1  -5.991340 1980-01-04\n",
       "2837  1980      1    5  0.0       52.5  -2.3   3.0  -5.9 -10.688035 1980-01-05"
      ]
     },
     "execution_count": 297,
     "metadata": {},
     "output_type": "execute_result"
    }
   ],
   "source": [
    "data.head()"
   ]
  },
  {
   "cell_type": "markdown",
   "metadata": {},
   "source": [
    "### **Binning Method**"
   ]
  },
  {
   "cell_type": "code",
   "execution_count": 298,
   "metadata": {},
   "outputs": [],
   "source": [
    "# Define the precipitation intensity threshold for rain days\n",
    "precipitation_threshold = 0.1\n",
    "\n",
    "rain_days = data[data['Pcp'] > precipitation_threshold]\n",
    "\n",
    "num_bins = 20"
   ]
  },
  {
   "cell_type": "code",
   "execution_count": 299,
   "metadata": {},
   "outputs": [
    {
     "name": "stderr",
     "output_type": "stream",
     "text": [
      "C:\\Users\\USER2\\AppData\\Local\\Temp\\ipykernel_28836\\3368197447.py:2: SettingWithCopyWarning: \n",
      "A value is trying to be set on a copy of a slice from a DataFrame.\n",
      "Try using .loc[row_indexer,col_indexer] = value instead\n",
      "\n",
      "See the caveats in the documentation: https://pandas.pydata.org/pandas-docs/stable/user_guide/indexing.html#returning-a-view-versus-a-copy\n",
      "  rain_days['Temperature_Bins'] = pd.qcut(rain_days['Tdew'], q=num_bins, labels=False, duplicates='drop')\n"
     ]
    }
   ],
   "source": [
    "# Apply equal-frequency binning to the temperature data for rain days\n",
    "rain_days['Temperature_Bins'] = pd.qcut(rain_days['Tdew'], q=num_bins, labels=False, duplicates='drop')"
   ]
  },
  {
   "cell_type": "code",
   "execution_count": 300,
   "metadata": {},
   "outputs": [
    {
     "data": {
      "image/png": "[encoded data removed]",
      "text/plain": [
       "<Figure size 640x480 with 1 Axes>"
      ]
     },
     "metadata": {},
     "output_type": "display_data"
    }
   ],
   "source": [
    "import matplotlib.pyplot as plt\n",
    "bin_counts = rain_days['Temperature_Bins'].value_counts().sort_index()\n",
    "plt.hist(rain_days['Temperature_Bins'], bins=num_bins, edgecolor='black')\n",
    "plt.xlabel('Temperature Bins')\n",
    "plt.ylabel('Frequency')\n",
    "plt.title('Distribution of Temperature Bins')\n",
    "plt.show()"
   ]
  },
  {
   "cell_type": "code",
   "execution_count": 301,
   "metadata": {},
   "outputs": [
    {
     "data": {
      "text/html": [
       "<div>\n",
       "<style scoped>\n",
       "    .dataframe tbody tr th:only-of-type {\n",
       "        vertical-align: middle;\n",
       "    }\n",
       "\n",
       "    .dataframe tbody tr th {\n",
       "        vertical-align: top;\n",
       "    }\n",
       "\n",
       "    .dataframe thead th {\n",
       "        text-align: right;\n",
       "    }\n",
       "</style>\n",
       "<table border=\"1\" class=\"dataframe\">\n",
       "  <thead>\n",
       "    <tr style=\"text-align: right;\">\n",
       "      <th></th>\n",
       "      <th>Mean_Dew_Temperature</th>\n",
       "      <th>P99_Precipitation</th>\n",
       "    </tr>\n",
       "    <tr>\n",
       "      <th>Temperature_Bins</th>\n",
       "      <th></th>\n",
       "      <th></th>\n",
       "    </tr>\n",
       "  </thead>\n",
       "  <tbody>\n",
       "    <tr>\n",
       "      <th>0</th>\n",
       "      <td>-6.772735</td>\n",
       "      <td>13.050</td>\n",
       "    </tr>\n",
       "    <tr>\n",
       "      <th>1</th>\n",
       "      <td>-2.074207</td>\n",
       "      <td>31.588</td>\n",
       "    </tr>\n",
       "    <tr>\n",
       "      <th>2</th>\n",
       "      <td>0.428707</td>\n",
       "      <td>33.533</td>\n",
       "    </tr>\n",
       "    <tr>\n",
       "      <th>3</th>\n",
       "      <td>2.389970</td>\n",
       "      <td>39.584</td>\n",
       "    </tr>\n",
       "    <tr>\n",
       "      <th>4</th>\n",
       "      <td>4.421596</td>\n",
       "      <td>40.505</td>\n",
       "    </tr>\n",
       "    <tr>\n",
       "      <th>5</th>\n",
       "      <td>6.588461</td>\n",
       "      <td>59.020</td>\n",
       "    </tr>\n",
       "    <tr>\n",
       "      <th>6</th>\n",
       "      <td>8.425504</td>\n",
       "      <td>69.735</td>\n",
       "    </tr>\n",
       "    <tr>\n",
       "      <th>7</th>\n",
       "      <td>10.294340</td>\n",
       "      <td>86.634</td>\n",
       "    </tr>\n",
       "    <tr>\n",
       "      <th>8</th>\n",
       "      <td>12.039077</td>\n",
       "      <td>80.592</td>\n",
       "    </tr>\n",
       "    <tr>\n",
       "      <th>9</th>\n",
       "      <td>13.655341</td>\n",
       "      <td>109.130</td>\n",
       "    </tr>\n",
       "    <tr>\n",
       "      <th>10</th>\n",
       "      <td>15.193392</td>\n",
       "      <td>112.360</td>\n",
       "    </tr>\n",
       "    <tr>\n",
       "      <th>11</th>\n",
       "      <td>16.607564</td>\n",
       "      <td>148.860</td>\n",
       "    </tr>\n",
       "    <tr>\n",
       "      <th>12</th>\n",
       "      <td>17.695853</td>\n",
       "      <td>106.750</td>\n",
       "    </tr>\n",
       "    <tr>\n",
       "      <th>13</th>\n",
       "      <td>18.676356</td>\n",
       "      <td>190.080</td>\n",
       "    </tr>\n",
       "    <tr>\n",
       "      <th>14</th>\n",
       "      <td>19.549340</td>\n",
       "      <td>140.080</td>\n",
       "    </tr>\n",
       "    <tr>\n",
       "      <th>15</th>\n",
       "      <td>20.240910</td>\n",
       "      <td>160.790</td>\n",
       "    </tr>\n",
       "    <tr>\n",
       "      <th>16</th>\n",
       "      <td>21.051868</td>\n",
       "      <td>252.216</td>\n",
       "    </tr>\n",
       "    <tr>\n",
       "      <th>17</th>\n",
       "      <td>21.977691</td>\n",
       "      <td>219.038</td>\n",
       "    </tr>\n",
       "    <tr>\n",
       "      <th>18</th>\n",
       "      <td>22.860861</td>\n",
       "      <td>143.824</td>\n",
       "    </tr>\n",
       "    <tr>\n",
       "      <th>19</th>\n",
       "      <td>23.922394</td>\n",
       "      <td>174.734</td>\n",
       "    </tr>\n",
       "  </tbody>\n",
       "</table>\n",
       "</div>"
      ],
      "text/plain": [
       "                  Mean_Dew_Temperature  P99_Precipitation\n",
       "Temperature_Bins                                         \n",
       "0                            -6.772735             13.050\n",
       "1                            -2.074207             31.588\n",
       "2                             0.428707             33.533\n",
       "3                             2.389970             39.584\n",
       "4                             4.421596             40.505\n",
       "5                             6.588461             59.020\n",
       "6                             8.425504             69.735\n",
       "7                            10.294340             86.634\n",
       "8                            12.039077             80.592\n",
       "9                            13.655341            109.130\n",
       "10                           15.193392            112.360\n",
       "11                           16.607564            148.860\n",
       "12                           17.695853            106.750\n",
       "13                           18.676356            190.080\n",
       "14                           19.549340            140.080\n",
       "15                           20.240910            160.790\n",
       "16                           21.051868            252.216\n",
       "17                           21.977691            219.038\n",
       "18                           22.860861            143.824\n",
       "19                           23.922394            174.734"
      ]
     },
     "execution_count": 301,
     "metadata": {},
     "output_type": "execute_result"
    }
   ],
   "source": [
    "# Calculate P99 for precipitation in each temperature bin\n",
    "p99_precipitation = rain_days.groupby('Temperature_Bins')['Pcp'].quantile(0.99)\n",
    "\n",
    "# Calculate mean temperature in each bin\n",
    "mean_dew_temperature = rain_days.groupby('Temperature_Bins')['Tdew'].mean()\n",
    "\n",
    "result_df = pd.DataFrame({'Mean_Dew_Temperature': mean_dew_temperature, 'P99_Precipitation': p99_precipitation})\n",
    "\n",
    "result_df"
   ]
  },
  {
   "cell_type": "markdown",
   "metadata": {},
   "source": [
    "**Fit log(P99) and Mean Dew in each bin to estimate beta**\n",
    "\n",
    "$log(P99) = \\alpha + \\beta T$"
   ]
  },
  {
   "cell_type": "code",
   "execution_count": 302,
   "metadata": {},
   "outputs": [],
   "source": [
    "import numpy as np\n",
    "\n",
    "result_df['Log_P99'] = np.log(result_df['P99_Precipitation'])"
   ]
  },
  {
   "cell_type": "code",
   "execution_count": 303,
   "metadata": {},
   "outputs": [
    {
     "data": {
      "text/html": [
       "<div>\n",
       "<style scoped>\n",
       "    .dataframe tbody tr th:only-of-type {\n",
       "        vertical-align: middle;\n",
       "    }\n",
       "\n",
       "    .dataframe tbody tr th {\n",
       "        vertical-align: top;\n",
       "    }\n",
       "\n",
       "    .dataframe thead th {\n",
       "        text-align: right;\n",
       "    }\n",
       "</style>\n",
       "<table border=\"1\" class=\"dataframe\">\n",
       "  <thead>\n",
       "    <tr style=\"text-align: right;\">\n",
       "      <th></th>\n",
       "      <th>Mean_Dew_Temperature</th>\n",
       "      <th>P99_Precipitation</th>\n",
       "      <th>Log_P99</th>\n",
       "    </tr>\n",
       "    <tr>\n",
       "      <th>Temperature_Bins</th>\n",
       "      <th></th>\n",
       "      <th></th>\n",
       "      <th></th>\n",
       "    </tr>\n",
       "  </thead>\n",
       "  <tbody>\n",
       "    <tr>\n",
       "      <th>0</th>\n",
       "      <td>-6.772735</td>\n",
       "      <td>13.050</td>\n",
       "      <td>2.568788</td>\n",
       "    </tr>\n",
       "    <tr>\n",
       "      <th>1</th>\n",
       "      <td>-2.074207</td>\n",
       "      <td>31.588</td>\n",
       "      <td>3.452777</td>\n",
       "    </tr>\n",
       "    <tr>\n",
       "      <th>2</th>\n",
       "      <td>0.428707</td>\n",
       "      <td>33.533</td>\n",
       "      <td>3.512530</td>\n",
       "    </tr>\n",
       "    <tr>\n",
       "      <th>3</th>\n",
       "      <td>2.389970</td>\n",
       "      <td>39.584</td>\n",
       "      <td>3.678425</td>\n",
       "    </tr>\n",
       "    <tr>\n",
       "      <th>4</th>\n",
       "      <td>4.421596</td>\n",
       "      <td>40.505</td>\n",
       "      <td>3.701425</td>\n",
       "    </tr>\n",
       "    <tr>\n",
       "      <th>5</th>\n",
       "      <td>6.588461</td>\n",
       "      <td>59.020</td>\n",
       "      <td>4.077876</td>\n",
       "    </tr>\n",
       "    <tr>\n",
       "      <th>6</th>\n",
       "      <td>8.425504</td>\n",
       "      <td>69.735</td>\n",
       "      <td>4.244702</td>\n",
       "    </tr>\n",
       "    <tr>\n",
       "      <th>7</th>\n",
       "      <td>10.294340</td>\n",
       "      <td>86.634</td>\n",
       "      <td>4.461692</td>\n",
       "    </tr>\n",
       "    <tr>\n",
       "      <th>8</th>\n",
       "      <td>12.039077</td>\n",
       "      <td>80.592</td>\n",
       "      <td>4.389399</td>\n",
       "    </tr>\n",
       "    <tr>\n",
       "      <th>9</th>\n",
       "      <td>13.655341</td>\n",
       "      <td>109.130</td>\n",
       "      <td>4.692540</td>\n",
       "    </tr>\n",
       "    <tr>\n",
       "      <th>10</th>\n",
       "      <td>15.193392</td>\n",
       "      <td>112.360</td>\n",
       "      <td>4.721708</td>\n",
       "    </tr>\n",
       "    <tr>\n",
       "      <th>11</th>\n",
       "      <td>16.607564</td>\n",
       "      <td>148.860</td>\n",
       "      <td>5.003006</td>\n",
       "    </tr>\n",
       "    <tr>\n",
       "      <th>12</th>\n",
       "      <td>17.695853</td>\n",
       "      <td>106.750</td>\n",
       "      <td>4.670490</td>\n",
       "    </tr>\n",
       "    <tr>\n",
       "      <th>13</th>\n",
       "      <td>18.676356</td>\n",
       "      <td>190.080</td>\n",
       "      <td>5.247445</td>\n",
       "    </tr>\n",
       "    <tr>\n",
       "      <th>14</th>\n",
       "      <td>19.549340</td>\n",
       "      <td>140.080</td>\n",
       "      <td>4.942214</td>\n",
       "    </tr>\n",
       "    <tr>\n",
       "      <th>15</th>\n",
       "      <td>20.240910</td>\n",
       "      <td>160.790</td>\n",
       "      <td>5.080099</td>\n",
       "    </tr>\n",
       "    <tr>\n",
       "      <th>16</th>\n",
       "      <td>21.051868</td>\n",
       "      <td>252.216</td>\n",
       "      <td>5.530286</td>\n",
       "    </tr>\n",
       "    <tr>\n",
       "      <th>17</th>\n",
       "      <td>21.977691</td>\n",
       "      <td>219.038</td>\n",
       "      <td>5.389245</td>\n",
       "    </tr>\n",
       "    <tr>\n",
       "      <th>18</th>\n",
       "      <td>22.860861</td>\n",
       "      <td>143.824</td>\n",
       "      <td>4.968590</td>\n",
       "    </tr>\n",
       "    <tr>\n",
       "      <th>19</th>\n",
       "      <td>23.922394</td>\n",
       "      <td>174.734</td>\n",
       "      <td>5.163265</td>\n",
       "    </tr>\n",
       "  </tbody>\n",
       "</table>\n",
       "</div>"
      ],
      "text/plain": [
       "                  Mean_Dew_Temperature  P99_Precipitation   Log_P99\n",
       "Temperature_Bins                                                   \n",
       "0                            -6.772735             13.050  2.568788\n",
       "1                            -2.074207             31.588  3.452777\n",
       "2                             0.428707             33.533  3.512530\n",
       "3                             2.389970             39.584  3.678425\n",
       "4                             4.421596             40.505  3.701425\n",
       "5                             6.588461             59.020  4.077876\n",
       "6                             8.425504             69.735  4.244702\n",
       "7                            10.294340             86.634  4.461692\n",
       "8                            12.039077             80.592  4.389399\n",
       "9                            13.655341            109.130  4.692540\n",
       "10                           15.193392            112.360  4.721708\n",
       "11                           16.607564            148.860  5.003006\n",
       "12                           17.695853            106.750  4.670490\n",
       "13                           18.676356            190.080  5.247445\n",
       "14                           19.549340            140.080  4.942214\n",
       "15                           20.240910            160.790  5.080099\n",
       "16                           21.051868            252.216  5.530286\n",
       "17                           21.977691            219.038  5.389245\n",
       "18                           22.860861            143.824  4.968590\n",
       "19                           23.922394            174.734  5.163265"
      ]
     },
     "execution_count": 303,
     "metadata": {},
     "output_type": "execute_result"
    }
   ],
   "source": [
    "result_df"
   ]
  },
  {
   "cell_type": "code",
   "execution_count": 304,
   "metadata": {},
   "outputs": [],
   "source": [
    "from scipy.stats import linregress\n",
    "import matplotlib.pyplot as plt\n",
    "\n",
    "# Perform linear regression\n",
    "slope, intercept, r_value, p_value, std_err = linregress(result_df['Mean_Dew_Temperature'], result_df['Log_P99'])"
   ]
  },
  {
   "cell_type": "code",
   "execution_count": 305,
   "metadata": {},
   "outputs": [
    {
     "data": {
      "text/plain": [
       "0.0826278778175079"
      ]
     },
     "execution_count": 305,
     "metadata": {},
     "output_type": "execute_result"
    }
   ],
   "source": [
    "slope"
   ]
  },
  {
   "cell_type": "markdown",
   "metadata": {},
   "source": [
    "**Calculate Scaling Rate**\n",
    "\n",
    "$100(e^\\beta-1)$"
   ]
  },
  {
   "cell_type": "code",
   "execution_count": 306,
   "metadata": {},
   "outputs": [],
   "source": [
    "scaling_rate_tdew = 100*((math.e)**(slope) - 1)"
   ]
  },
  {
   "cell_type": "code",
   "execution_count": 307,
   "metadata": {},
   "outputs": [
    {
     "data": {
      "text/plain": [
       "8.613755745913586"
      ]
     },
     "execution_count": 307,
     "metadata": {},
     "output_type": "execute_result"
    }
   ],
   "source": [
    "scaling_rate_tdew "
   ]
  },
  {
   "cell_type": "markdown",
   "metadata": {},
   "source": [
    "### **Quantile Regression**"
   ]
  },
  {
   "cell_type": "code",
   "execution_count": 308,
   "metadata": {},
   "outputs": [],
   "source": [
    "import statsmodels.api as sm\n",
    "\n",
    "quantile = 0.99\n",
    "\n",
    "model_Pcp = sm.QuantReg(np.log(rain_days['Pcp']), sm.add_constant(rain_days[['Tdew']])).fit(q=quantile)"
   ]
  },
  {
   "cell_type": "code",
   "execution_count": 309,
   "metadata": {},
   "outputs": [
    {
     "name": "stdout",
     "output_type": "stream",
     "text": [
      "                         QuantReg Regression Results                          \n",
      "==============================================================================\n",
      "Dep. Variable:                    Pcp   Pseudo R-squared:               0.1323\n",
      "Model:                       QuantReg   Bandwidth:                      0.5900\n",
      "Method:                 Least Squares   Sparsity:                        25.65\n",
      "Date:                Fri, 08 Dec 2023   No. Observations:                 3990\n",
      "Time:                        10:09:29   Df Residuals:                     3988\n",
      "                                        Df Model:                            1\n",
      "==============================================================================\n",
      "                 coef    std err          t      P>|t|      [0.025      0.975]\n",
      "------------------------------------------------------------------------------\n",
      "const          3.5271      0.066     53.056      0.000       3.397       3.657\n",
      "Tdew           0.0850      0.004     20.407      0.000       0.077       0.093\n",
      "==============================================================================\n"
     ]
    }
   ],
   "source": [
    "print(model_Pcp.summary())"
   ]
  },
  {
   "cell_type": "code",
   "execution_count": 310,
   "metadata": {},
   "outputs": [],
   "source": [
    "slope = model_Pcp.params[1]"
   ]
  },
  {
   "cell_type": "code",
   "execution_count": 311,
   "metadata": {},
   "outputs": [
    {
     "data": {
      "text/plain": [
       "8.873320356414105"
      ]
     },
     "execution_count": 311,
     "metadata": {},
     "output_type": "execute_result"
    }
   ],
   "source": [
    "scaling_rate = 100*((math.e)**(slope) - 1)\n",
    "scaling_rate "
   ]
  },
  {
   "cell_type": "markdown",
   "metadata": {},
   "source": [
    "### **Zhang Method**"
   ]
  },
  {
   "cell_type": "code",
   "execution_count": 312,
   "metadata": {},
   "outputs": [],
   "source": [
    "grouped_df = data.groupby(['year', 'month'])\n",
    "\n",
    "max_indices = grouped_df.apply(lambda x: x['Pcp'].idxmax())\n",
    "\n",
    "monthly_max = data.loc[max_indices]"
   ]
  },
  {
   "cell_type": "code",
   "execution_count": 313,
   "metadata": {},
   "outputs": [],
   "source": [
    "#jja = data[(data.month>=6)&(data.month<=8)]\n",
    "#monthly_ = jja.groupby('year')['Pcp'].max().reset_index()\n",
    "#tdew = jja.groupby('year')['Tdew'].mean().reset_index()\n",
    "#monthly_max = pd.concat([monthly_.set_index('year'), tdew.set_index('year')], axis=1).reset_index()"
   ]
  },
  {
   "cell_type": "code",
   "execution_count": 314,
   "metadata": {},
   "outputs": [],
   "source": [
    "from pykelihood.distributions import GEV \n",
    "from pykelihood import kernels"
   ]
  },
  {
   "cell_type": "code",
   "execution_count": 315,
   "metadata": {},
   "outputs": [
    {
     "data": {
      "text/html": [
       "<div>\n",
       "<style scoped>\n",
       "    .dataframe tbody tr th:only-of-type {\n",
       "        vertical-align: middle;\n",
       "    }\n",
       "\n",
       "    .dataframe tbody tr th {\n",
       "        vertical-align: top;\n",
       "    }\n",
       "\n",
       "    .dataframe thead th {\n",
       "        text-align: right;\n",
       "    }\n",
       "</style>\n",
       "<table border=\"1\" class=\"dataframe\">\n",
       "  <thead>\n",
       "    <tr style=\"text-align: right;\">\n",
       "      <th></th>\n",
       "      <th>year</th>\n",
       "      <th>month</th>\n",
       "      <th>day</th>\n",
       "      <th>Pcp</th>\n",
       "      <th>Rhumidity</th>\n",
       "      <th>Tavg</th>\n",
       "      <th>Tmax</th>\n",
       "      <th>Tmin</th>\n",
       "      <th>Tdew</th>\n",
       "      <th>Date</th>\n",
       "    </tr>\n",
       "  </thead>\n",
       "  <tbody>\n",
       "    <tr>\n",
       "      <th>2860</th>\n",
       "      <td>1980</td>\n",
       "      <td>1</td>\n",
       "      <td>28</td>\n",
       "      <td>18.3</td>\n",
       "      <td>92.5</td>\n",
       "      <td>6.4</td>\n",
       "      <td>12.1</td>\n",
       "      <td>2.9</td>\n",
       "      <td>5.273618</td>\n",
       "      <td>1980-01-28</td>\n",
       "    </tr>\n",
       "    <tr>\n",
       "      <th>2892</th>\n",
       "      <td>1980</td>\n",
       "      <td>2</td>\n",
       "      <td>29</td>\n",
       "      <td>5.2</td>\n",
       "      <td>77.3</td>\n",
       "      <td>4.5</td>\n",
       "      <td>13.4</td>\n",
       "      <td>-4.0</td>\n",
       "      <td>0.875767</td>\n",
       "      <td>1980-02-29</td>\n",
       "    </tr>\n",
       "    <tr>\n",
       "      <th>2901</th>\n",
       "      <td>1980</td>\n",
       "      <td>3</td>\n",
       "      <td>9</td>\n",
       "      <td>23.6</td>\n",
       "      <td>82.3</td>\n",
       "      <td>7.4</td>\n",
       "      <td>9.0</td>\n",
       "      <td>5.8</td>\n",
       "      <td>4.582072</td>\n",
       "      <td>1980-03-09</td>\n",
       "    </tr>\n",
       "    <tr>\n",
       "      <th>2928</th>\n",
       "      <td>1980</td>\n",
       "      <td>4</td>\n",
       "      <td>5</td>\n",
       "      <td>83.3</td>\n",
       "      <td>89.5</td>\n",
       "      <td>15.8</td>\n",
       "      <td>19.1</td>\n",
       "      <td>14.3</td>\n",
       "      <td>14.075256</td>\n",
       "      <td>1980-04-05</td>\n",
       "    </tr>\n",
       "    <tr>\n",
       "      <th>2965</th>\n",
       "      <td>1980</td>\n",
       "      <td>5</td>\n",
       "      <td>12</td>\n",
       "      <td>29.2</td>\n",
       "      <td>79.5</td>\n",
       "      <td>16.7</td>\n",
       "      <td>18.9</td>\n",
       "      <td>14.8</td>\n",
       "      <td>13.133846</td>\n",
       "      <td>1980-05-12</td>\n",
       "    </tr>\n",
       "  </tbody>\n",
       "</table>\n",
       "</div>"
      ],
      "text/plain": [
       "      year  month  day   Pcp  Rhumidity  Tavg  Tmax  Tmin       Tdew  \\\n",
       "2860  1980      1   28  18.3       92.5   6.4  12.1   2.9   5.273618   \n",
       "2892  1980      2   29   5.2       77.3   4.5  13.4  -4.0   0.875767   \n",
       "2901  1980      3    9  23.6       82.3   7.4   9.0   5.8   4.582072   \n",
       "2928  1980      4    5  83.3       89.5  15.8  19.1  14.3  14.075256   \n",
       "2965  1980      5   12  29.2       79.5  16.7  18.9  14.8  13.133846   \n",
       "\n",
       "           Date  \n",
       "2860 1980-01-28  \n",
       "2892 1980-02-29  \n",
       "2901 1980-03-09  \n",
       "2928 1980-04-05  \n",
       "2965 1980-05-12  "
      ]
     },
     "execution_count": 315,
     "metadata": {},
     "output_type": "execute_result"
    }
   ],
   "source": [
    "monthly_max.head()"
   ]
  },
  {
   "cell_type": "code",
   "execution_count": 316,
   "metadata": {},
   "outputs": [
    {
     "data": {
      "text/plain": [
       "GEV(loc=linear(a=14.760374320660816, b=1.1197371665343854), scale=19.96820486184123, shape=0.3589854167596139)"
      ]
     },
     "execution_count": 316,
     "metadata": {},
     "output_type": "execute_result"
    }
   ],
   "source": [
    "fitted_gev = GEV.fit(monthly_max[\"Pcp\"], loc=kernels.linear(monthly_max[\"Tdew\"]))\n",
    "fitted_gev"
   ]
  },
  {
   "cell_type": "code",
   "execution_count": 317,
   "metadata": {},
   "outputs": [],
   "source": [
    "non_normalized = fitted_gev.param_dict[\"loc\"].flattened_param_dict[\"b\"]"
   ]
  },
  {
   "cell_type": "code",
   "execution_count": 318,
   "metadata": {},
   "outputs": [],
   "source": [
    "non_zero = data[data[\"Pcp\"] != 0]\n",
    "median_pcp = non_zero['Pcp'].median()\n",
    "monthly_max['Pcp_normalized'] = monthly_max['Pcp'] / median_pcp "
   ]
  },
  {
   "cell_type": "code",
   "execution_count": 319,
   "metadata": {},
   "outputs": [],
   "source": [
    "# Tdew anomalies \n",
    "mean_tdew = data[\"Tdew\"].mean()\n",
    "# Calculate dew point temperature anomalies\n",
    "monthly_max['Tdew_anomaly'] = monthly_max['Tdew'] - mean_tdew"
   ]
  },
  {
   "cell_type": "code",
   "execution_count": 320,
   "metadata": {},
   "outputs": [
    {
     "name": "stderr",
     "output_type": "stream",
     "text": [
      "c:\\Users\\USER2\\anaconda3\\Lib\\site-packages\\pykelihood\\distributions.py:69: RuntimeWarning: divide by zero encountered in log\n",
      "  return np.log(self.pdf(x))\n"
     ]
    },
    {
     "data": {
      "text/plain": [
       "GEV(loc=linear(a=4.6148920532472815, b=0.2332780799959797), scale=4.160038936203491, shape=0.358987042490462)"
      ]
     },
     "execution_count": 320,
     "metadata": {},
     "output_type": "execute_result"
    }
   ],
   "source": [
    "fitted_gev = GEV.fit(monthly_max[\"Pcp_normalized\"], loc=kernels.linear(monthly_max[\"Tdew_anomaly\"]))\n",
    "fitted_gev"
   ]
  },
  {
   "cell_type": "code",
   "execution_count": 321,
   "metadata": {},
   "outputs": [],
   "source": [
    "normalized = fitted_gev.param_dict[\"loc\"].flattened_param_dict[\"b\"]"
   ]
  },
  {
   "cell_type": "code",
   "execution_count": 322,
   "metadata": {},
   "outputs": [],
   "source": [
    "normalized = float(normalized)\n",
    "non_normalized = float(non_normalized)"
   ]
  },
  {
   "cell_type": "code",
   "execution_count": 323,
   "metadata": {},
   "outputs": [
    {
     "data": {
      "image/png": "[encoded data removed]",
      "text/plain": [
       "<Figure size 1200x500 with 2 Axes>"
      ]
     },
     "metadata": {},
     "output_type": "display_data"
    }
   ],
   "source": [
    "import matplotlib.pyplot as plt\n",
    "\n",
    "fig, (ax1, ax2) = plt.subplots(nrows=1, ncols=2, figsize=(12, 5))\n",
    "\n",
    "ax1.scatter(monthly_max['Tdew'], monthly_max['Pcp'], label='Pcp vs Tdew', color='blue', alpha=0.7)\n",
    "ax1.set_xlabel('Tdew')\n",
    "ax1.set_ylabel('Pcp')\n",
    "ax1.set_title('Scatter Plot of Pcp vs Tdew')\n",
    "ax1.text(0.25, 0.5, f\"beta1 = {non_normalized:.5f}\", transform=ax1.transAxes, fontsize=12, ha='center', va='center')\n",
    "\n",
    "ax2.scatter(monthly_max['Tdew_anomaly'], monthly_max['Pcp_normalized'], label='Pcp_normalized vs Tdew', color='red', alpha=0.7)\n",
    "ax2.set_xlabel('Tdew Anomaly')\n",
    "ax2.set_ylabel('Pcp_normalized')\n",
    "ax2.set_title('Scatter Plot of Pcp_normalized vs Tdew Anomaly')\n",
    "ax2.text(0.25, 0.5, f\"beta1 = {normalized:.5f}\", transform=ax2.transAxes, fontsize=12, ha='center', va='center')\n",
    "plt.tight_layout()\n",
    "\n",
    "# Show the plot\n",
    "plt.show()\n",
    "\n"
   ]
  }
 ],
 "metadata": {
  "kernelspec": {
   "display_name": "base",
   "language": "python",
   "name": "python3"
  },
  "language_info": {
   "codemirror_mode": {
    "name": "ipython",
    "version": 3
   },
   "file_extension": ".py",
   "mimetype": "text/x-python",
   "name": "python",
   "nbconvert_exporter": "python",
   "pygments_lexer": "ipython3",
   "version": "3.11.4"
  }
 },
 "nbformat": 4,
 "nbformat_minor": 2
}
